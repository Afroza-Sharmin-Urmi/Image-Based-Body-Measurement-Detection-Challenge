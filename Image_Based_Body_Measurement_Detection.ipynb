{
  "nbformat": 4,
  "nbformat_minor": 0,
  "metadata": {
    "colab": {
      "provenance": []
    },
    "kernelspec": {
      "name": "python3",
      "display_name": "Python 3"
    },
    "language_info": {
      "name": "python"
    }
  },
  "cells": [
    {
      "cell_type": "markdown",
      "source": [
        "\n",
        "##About Datasets and Pretained tensorflow model\n",
        "\n",
        "\n",
        "1.   Dataset collected randomly from the internet (human posing for measurement) and managed to collect 85 images, which are annotated using a bounding box in Roboflow.\n",
        "2.   Later performed Preprocessing and augmentation in the annotated images, since we've got a pretty small amount of dataset.\n",
        "3. After applying several augmentations, our dataset was modified for further training and analysis.\n",
        "4. Took the raw URL of the pre-trained model implementations and also downloaded the tensorflow object detection in CSV format for further prediction and to get circumferences, width, and length of the mentioned body part.\n",
        "\n",
        "\n"
      ],
      "metadata": {
        "id": "anT12OBjouhN"
      }
    },
    {
      "cell_type": "markdown",
      "source": [
        "###Setup and Imports:\n",
        "\n",
        "Start by setting up your Colab environment and importing necessary libraries:\n",
        "\n",
        "**1. Installing the TensorFlow Object Detection API and 'tensorflow_io':**\n",
        "\n",
        "        In the Colab notebook, in order to install the TensorFlow Object Detection API and 'tensorflow_io':"
      ],
      "metadata": {
        "id": "USLRg--d7XIB"
      }
    },
    {
      "cell_type": "code",
      "source": [
        "!git clone https://github.com/tensorflow/models.git\n",
        "!apt-get install -y protobuf-compiler\n",
        "!cd models/research/ && protoc object_detection/protos/*.proto --python_out=.\n",
        "!pip install tensorflow-io"
      ],
      "metadata": {
        "colab": {
          "base_uri": "https://localhost:8080/"
        },
        "id": "vJCCZTp-T6Lp",
        "outputId": "d16bdc75-4942-4c51-a13c-c151070a7c9a"
      },
      "execution_count": null,
      "outputs": [
        {
          "output_type": "stream",
          "name": "stdout",
          "text": [
            "fatal: destination path 'models' already exists and is not an empty directory.\n",
            "Reading package lists... Done\n",
            "Building dependency tree... Done\n",
            "Reading state information... Done\n",
            "protobuf-compiler is already the newest version (3.12.4-1ubuntu7.22.04.1).\n",
            "0 upgraded, 0 newly installed, 0 to remove and 18 not upgraded.\n",
            "Requirement already satisfied: tensorflow-io in /usr/local/lib/python3.10/dist-packages (0.34.0)\n",
            "Requirement already satisfied: tensorflow-io-gcs-filesystem==0.34.0 in /usr/local/lib/python3.10/dist-packages (from tensorflow-io) (0.34.0)\n"
          ]
        }
      ]
    },
    {
      "cell_type": "markdown",
      "source": [
        "**2. Add TensorFlow Object Detection API to PYTHONPATH:**\n",
        "\n",
        "        Adding the TensorFlow Object Detection API to the PYTHONPATH so that Python can find the necessary modules:\n"
      ],
      "metadata": {
        "id": "WUxypadSUS6b"
      }
    },
    {
      "cell_type": "code",
      "source": [
        "#!pip install tensorflow==<desired_version>\n",
        "!git clone https://github.com/tensorflow/models.git\n",
        "sys.path.append('/content/models/official')"
      ],
      "metadata": {
        "id": "14MvJ_-uWHti"
      },
      "execution_count": null,
      "outputs": []
    },
    {
      "cell_type": "code",
      "source": [
        "import sys\n",
        "sys.path.append('/content/models/research')\n",
        "sys.path.append('/content/models/research/slim')"
      ],
      "metadata": {
        "id": "tjVSw_DCT9X5"
      },
      "execution_count": null,
      "outputs": []
    },
    {
      "cell_type": "markdown",
      "source": [
        "**3. Setup and Imports:**\n",
        "\n",
        "Start by setting up your Colab environment and importing necessary libraries:"
      ],
      "metadata": {
        "id": "xGTPKqEKVeg6"
      }
    },
    {
      "cell_type": "code",
      "execution_count": null,
      "metadata": {
        "id": "f31hgl4FDfrw"
      },
      "outputs": [],
      "source": [
        "# Import libraries\n",
        "import os\n",
        "import official\n",
        "import numpy as np\n",
        "import tensorflow as tf\n",
        "import tensorflow_io as tfio\n",
        "from official.some_module import some_function\n",
        "from object_detection.utils import config_util\n",
        "from object_detection.builders import model_builder\n",
        "from object_detection.utils import visualization_utils as viz_utils\n",
        "from object_detection.utils import ops as utils_ops\n",
        "from object_detection.utils.label_map_util import get_label_map_dict\n"
      ]
    },
    {
      "cell_type": "markdown",
      "source": [
        "**4. Load Your Model:**\n",
        "\n",
        "    Loading the pre-trained TensorFlow Object Detection model. Providing the mpretrained modeol url to the model checkpoint that was pretrained in Roboflow."
      ],
      "metadata": {
        "id": "iyCKh-7H7R_s"
      }
    },
    {
      "cell_type": "code",
      "source": [
        "model_url = 'https://universe.roboflow.com/ds/8J5858NJP4?key=qMvFC4AHcw'\n",
        "configs = config_util.get_configs_from_pipeline_file(os.path.join(model_url, 'pipeline.config'))\n",
        "model_config = configs['model']\n",
        "detection_model = model_builder.build(model_config=model_config, is_training=False)\n",
        "ckpt = tf.compat.v2.train.Checkpoint(model=detection_model)\n",
        "ckpt.restore(os.path.join(model_dir, 'checkpoint', 'ckpt-0')).expect_partial()\n"
      ],
      "metadata": {
        "id": "h12sFz1bD95K"
      },
      "execution_count": null,
      "outputs": []
    },
    {
      "cell_type": "markdown",
      "source": [
        "**5. Load the Dataset:**\n",
        "\n",
        "    Loading TensorFlow Object Detection dataset where the dataset includes bounding box annotations and image data annotated and augmented from Roboflow."
      ],
      "metadata": {
        "id": "qGNHvvdB7ZqL"
      }
    },
    {
      "cell_type": "code",
      "source": [
        "dataset_dir = 'path/to/your/dataset'\n",
        "dataset = tf.data.TFRecordDataset(os.path.join(dataset_dir, 'test.record'))\n"
      ],
      "metadata": {
        "id": "wE_gQopqG5ac"
      },
      "execution_count": null,
      "outputs": []
    },
    {
      "cell_type": "markdown",
      "source": [
        "**6. Define a Function to Perform Inference:**\n",
        "\n",
        "    Creating a function to perform inference on the dataset and obtain bounding box predictions:"
      ],
      "metadata": {
        "id": "76-e2z0D7gWB"
      }
    },
    {
      "cell_type": "code",
      "source": [
        "@tf.function\n",
        "def detect_fn(image):\n",
        "    image, shapes = detection_model.preprocess(image)\n",
        "    prediction_dict = detection_model.predict(image, shapes)\n",
        "    detections = detection_model.postprocess(prediction_dict, shapes)\n",
        "    return detections\n"
      ],
      "metadata": {
        "id": "E3LrglmlFvZx"
      },
      "execution_count": null,
      "outputs": []
    },
    {
      "cell_type": "markdown",
      "source": [
        "**7. Perform Inference and Measure Circumferences:**\n",
        "\n",
        "    Loop through the pretrained dataset, perform inference, and calculating circumferences, width and length of specific body measuements of chest, waist, hip, shoulder, sleeve, shirt, neck, bicep, and wrist."
      ],
      "metadata": {
        "id": "gAfnruB19D-a"
      }
    },
    {
      "cell_type": "code",
      "source": [
        "# Define the approximate conversion factor (e.g., pixels to centimeters)\n",
        "conversion_factor = 2.54\n",
        "\n",
        "for raw_record in dataset:\n",
        "    example = tf.train.Example()\n",
        "    example.ParseFromString(raw_record.numpy())\n",
        "    image = tf.image.decode_jpeg(example.features.feature['image/encoded'].bytes_list.value[0], channels=3)\n",
        "    image_np = image.numpy()\n",
        "\n",
        "    input_tensor = tf.convert_to_tensor([np.asarray(image_np)])\n",
        "    detections = detect_fn(input_tensor)\n",
        "\n",
        "    # Access bounding box coordinates and classes\n",
        "    boxes = detections['detection_boxes'][0].numpy()\n",
        "    classes = detections['detection_classes'][0].numpy().astype(np.int32)\n",
        "\n",
        "    # Assuming class 1 corresponds to the person in your dataset\n",
        "    person_boxes = boxes[classes == 1]\n",
        "\n",
        "    for box in person_boxes:\n",
        "        ymin, xmin, ymax, xmax = box\n",
        "        height = (ymax - ymin) * conversion_factor\n",
        "        width = (xmax - xmin) * conversion_factor\n",
        "\n",
        "        # Calculating circumferences, width and length based on bounding box dimensions and giving Simplified assumption\n",
        "        chest_circumference = height\n",
        "        waist_circumference = height\n",
        "        hip_circumference = height\n",
        "        Shoulder_width =  width\n",
        "        Sleeve_length = height\n",
        "        Shirt_length = height\n",
        "        neck_circumference = width\n",
        "        Bicep_circumference = width\n",
        "        wrist_circumference = width\n",
        "\n",
        "\n",
        "        # Print or store the calculated circumferences\n",
        "        print(\"Chest Circumference:\", chest_circumference)\n",
        "        print(\"Waist Circumference:\", waist_circumference)\n",
        "        print(\"Hip Circumference:\", hip_circumference)\n",
        "        print(\"Shoulder Width:\", Shoulder_width)\n",
        "        print(\"Sleeve length:\", Sleeve_length)\n",
        "        print(\"Shirt length:\", Shirt_length)\n",
        "        print(\"Neck Circumference:\", neck_circumference)\n",
        "        print(\"Neck Circumference:\", Bicep_circumference)\n",
        "        print(\"Wrist Circumference:\", wrist_circumference)\n",
        "\n",
        "\n"
      ],
      "metadata": {
        "id": "wpT26pX_F0tJ"
      },
      "execution_count": null,
      "outputs": []
    }
  ]
}